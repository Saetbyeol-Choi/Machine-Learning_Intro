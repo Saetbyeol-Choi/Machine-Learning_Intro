{
 "cells": [
  {
   "cell_type": "markdown",
   "id": "a162dec2",
   "metadata": {},
   "source": [
    "# Part 1"
   ]
  },
  {
   "cell_type": "markdown",
   "id": "fd72aafa",
   "metadata": {},
   "source": [
    "I used open data provided by Kaggle, where anyone can use data for free without restrictions, for a group project in analytics computing class. The data listing motorcycle performance in relation to manufacturing was used for the project. The purpose of the report was to analyze and provide motorcycle performance under specific conditions to a hypothetical manufacturer through data processing and analysis."
   ]
  },
  {
   "cell_type": "markdown",
   "id": "26d6d4e2",
   "metadata": {},
   "source": [
    "# Part 2"
   ]
  },
  {
   "cell_type": "code",
   "execution_count": 1384,
   "id": "b0b29906",
   "metadata": {},
   "outputs": [
    {
     "name": "stdout",
     "output_type": "stream",
     "text": [
      "Requirement already satisfied: numpy in c:\\users\\sbyeo\\anaconda3\\lib\\site-packages (1.21.5)\n",
      "Note: you may need to restart the kernel to use updated packages.\n"
     ]
    }
   ],
   "source": [
    "pip install numpy"
   ]
  },
  {
   "cell_type": "code",
   "execution_count": 1385,
   "id": "55c79aaa",
   "metadata": {},
   "outputs": [],
   "source": [
    "import numpy as np"
   ]
  },
  {
   "cell_type": "code",
   "execution_count": 1386,
   "id": "be209d0e",
   "metadata": {},
   "outputs": [],
   "source": [
    "M = np.array([[1,3,-2],[-1,2,1],[1,0,-1],[4,2,0],[0,1,0]])"
   ]
  },
  {
   "cell_type": "code",
   "execution_count": 1387,
   "id": "a8a66fbf",
   "metadata": {},
   "outputs": [],
   "source": [
    "N = np.array([[1,2,1],[2,1,0],[1,0,1]])"
   ]
  },
  {
   "cell_type": "markdown",
   "id": "56cfacfd",
   "metadata": {},
   "source": [
    "||M|M<sup>T</sup>|N|N<sup>T</sup>|\n",
    "|:---|:---:|:---:|:---:|:---:|\n",
    "|M |MM(Incompatible)|MM<sup>T</sup>(5x5)|MN(5x3)|MN<sup>T</sup>=MN\n",
    "|M<sup>T</sup>|M<sup>T</sup>M(3x3)|M<sup>T</sup>M<sup>T</sup>((Incompatible)|M<sup>T</sup>N(Incompatible)|M<sup>T</sup>N<sup>T</sup>=M<sup>T</sup>N \n",
    "|N |NM(Incompatible)|NM<sup>T</sup>(3x5)|NN(3x3)|NN<sup>T</sup>=NN\n",
    "|N<sup>T</sup>|N<sup>T</sup>M=NM|N<sup>T</sup>M<sup>T</sup>= NM<sup>T</sup>|N<sup>T</sup>N=NN|N<sup>T</sup>N<sup>T</sup>=NN\n",
    "\n",
    "\n"
   ]
  },
  {
   "cell_type": "markdown",
   "id": "a3cc1a6c",
   "metadata": {},
   "source": [
    "# Part 3"
   ]
  },
  {
   "cell_type": "code",
   "execution_count": 1389,
   "id": "deb61aa3",
   "metadata": {},
   "outputs": [],
   "source": [
    "senate = pd.read_csv('senate_votes.csv')"
   ]
  },
  {
   "cell_type": "code",
   "execution_count": 1390,
   "id": "222c477b",
   "metadata": {},
   "outputs": [],
   "source": [
    "import pandas as pd"
   ]
  },
  {
   "cell_type": "markdown",
   "id": "028b32a5",
   "metadata": {},
   "source": [
    "## · Find the senator whose voting record is closest to Rhode Island senator, Lincoln Chafee."
   ]
  },
  {
   "cell_type": "code",
   "execution_count": 1391,
   "id": "3b029fc0",
   "metadata": {},
   "outputs": [
    {
     "data": {
      "text/html": [
       "<div>\n",
       "<style scoped>\n",
       "    .dataframe tbody tr th:only-of-type {\n",
       "        vertical-align: middle;\n",
       "    }\n",
       "\n",
       "    .dataframe tbody tr th {\n",
       "        vertical-align: top;\n",
       "    }\n",
       "\n",
       "    .dataframe thead th {\n",
       "        text-align: right;\n",
       "    }\n",
       "</style>\n",
       "<table border=\"1\" class=\"dataframe\">\n",
       "  <thead>\n",
       "    <tr style=\"text-align: right;\">\n",
       "      <th></th>\n",
       "      <th>Name</th>\n",
       "      <th>Party</th>\n",
       "      <th>State</th>\n",
       "      <th>B1</th>\n",
       "      <th>B2</th>\n",
       "      <th>B3</th>\n",
       "      <th>B4</th>\n",
       "      <th>B5</th>\n",
       "      <th>B6</th>\n",
       "      <th>B7</th>\n",
       "      <th>...</th>\n",
       "      <th>B37</th>\n",
       "      <th>B38</th>\n",
       "      <th>B39</th>\n",
       "      <th>B40</th>\n",
       "      <th>B41</th>\n",
       "      <th>B42</th>\n",
       "      <th>B43</th>\n",
       "      <th>B44</th>\n",
       "      <th>B45</th>\n",
       "      <th>B46</th>\n",
       "    </tr>\n",
       "  </thead>\n",
       "  <tbody>\n",
       "    <tr>\n",
       "      <th>18</th>\n",
       "      <td>Chafee</td>\n",
       "      <td>R</td>\n",
       "      <td>RI</td>\n",
       "      <td>1</td>\n",
       "      <td>-1</td>\n",
       "      <td>1</td>\n",
       "      <td>1</td>\n",
       "      <td>1</td>\n",
       "      <td>1</td>\n",
       "      <td>-1</td>\n",
       "      <td>...</td>\n",
       "      <td>1</td>\n",
       "      <td>-1</td>\n",
       "      <td>-1</td>\n",
       "      <td>1</td>\n",
       "      <td>1</td>\n",
       "      <td>1</td>\n",
       "      <td>-1</td>\n",
       "      <td>1</td>\n",
       "      <td>1</td>\n",
       "      <td>-1</td>\n",
       "    </tr>\n",
       "  </tbody>\n",
       "</table>\n",
       "<p>1 rows × 49 columns</p>\n",
       "</div>"
      ],
      "text/plain": [
       "      Name Party State  B1  B2  B3  B4  B5  B6  B7  ...  B37  B38  B39  B40  \\\n",
       "18  Chafee     R    RI   1  -1   1   1   1   1  -1  ...    1   -1   -1    1   \n",
       "\n",
       "    B41  B42  B43  B44  B45  B46  \n",
       "18    1    1   -1    1    1   -1  \n",
       "\n",
       "[1 rows x 49 columns]"
      ]
     },
     "execution_count": 1391,
     "metadata": {},
     "output_type": "execute_result"
    }
   ],
   "source": [
    "# Find the location of Chafee's vector\n",
    "senate.loc[senate['Name'] == 'Chafee']"
   ]
  },
  {
   "cell_type": "code",
   "execution_count": 1398,
   "id": "bc3a870e",
   "metadata": {},
   "outputs": [],
   "source": [
    "# Find voting vector\n",
    "v = np.array(senate.iloc[:,3:])"
   ]
  },
  {
   "cell_type": "code",
   "execution_count": 1399,
   "id": "e5ad6928",
   "metadata": {},
   "outputs": [],
   "source": [
    "from numpy.linalg import norm"
   ]
  },
  {
   "cell_type": "code",
   "execution_count": 1400,
   "id": "947083be",
   "metadata": {},
   "outputs": [],
   "source": [
    "# Find the norm of voting vector\n",
    "vi = norm((v),axis=1)"
   ]
  },
  {
   "cell_type": "code",
   "execution_count": 1401,
   "id": "43ee01cc",
   "metadata": {},
   "outputs": [
    {
     "data": {
      "text/plain": [
       "6.557438524302"
      ]
     },
     "execution_count": 1401,
     "metadata": {},
     "output_type": "execute_result"
    }
   ],
   "source": [
    "# Find the norm of Cafee's vector\n",
    "vc = norm(v[18])\n",
    "vc"
   ]
  },
  {
   "cell_type": "code",
   "execution_count": 1402,
   "id": "fcd916e6",
   "metadata": {},
   "outputs": [],
   "source": [
    "# Find the value of Cosine Distance \n",
    "cos_c = v @ v[18] / (vi*vc)"
   ]
  },
  {
   "cell_type": "code",
   "execution_count": 1403,
   "id": "7bd24c73",
   "metadata": {},
   "outputs": [
    {
     "data": {
      "text/plain": [
       "18      Chafee\n",
       "52    Jeffords\n",
       "71      Murray\n",
       "8     Bingaman\n",
       "16    Cantwell\n",
       "        ...   \n",
       "42      Graham\n",
       "38        Enzi\n",
       "49      Inhofe\n",
       "91      Sununu\n",
       "21      Coburn\n",
       "Name: Name, Length: 99, dtype: object"
      ]
     },
     "execution_count": 1403,
     "metadata": {},
     "output_type": "execute_result"
    }
   ],
   "source": [
    "# Arrange in ascending order to find the closest one from Chafee\n",
    "names[np.argsort(cos_c)[::-1]]"
   ]
  },
  {
   "cell_type": "markdown",
   "id": "72486c4e",
   "metadata": {},
   "source": [
    "#### ∴  Based on the result, Jeffords is closest to Rhode Island senator, Lincoln Chafee."
   ]
  },
  {
   "cell_type": "markdown",
   "id": "373dc432",
   "metadata": {},
   "source": [
    "## · Find the senator who disagrees most with Pennsylvania senator, Rick Santorum."
   ]
  },
  {
   "cell_type": "code",
   "execution_count": 1404,
   "id": "3518acea",
   "metadata": {},
   "outputs": [
    {
     "data": {
      "text/html": [
       "<div>\n",
       "<style scoped>\n",
       "    .dataframe tbody tr th:only-of-type {\n",
       "        vertical-align: middle;\n",
       "    }\n",
       "\n",
       "    .dataframe tbody tr th {\n",
       "        vertical-align: top;\n",
       "    }\n",
       "\n",
       "    .dataframe thead th {\n",
       "        text-align: right;\n",
       "    }\n",
       "</style>\n",
       "<table border=\"1\" class=\"dataframe\">\n",
       "  <thead>\n",
       "    <tr style=\"text-align: right;\">\n",
       "      <th></th>\n",
       "      <th>Name</th>\n",
       "      <th>Party</th>\n",
       "      <th>State</th>\n",
       "      <th>B1</th>\n",
       "      <th>B2</th>\n",
       "      <th>B3</th>\n",
       "      <th>B4</th>\n",
       "      <th>B5</th>\n",
       "      <th>B6</th>\n",
       "      <th>B7</th>\n",
       "      <th>...</th>\n",
       "      <th>B37</th>\n",
       "      <th>B38</th>\n",
       "      <th>B39</th>\n",
       "      <th>B40</th>\n",
       "      <th>B41</th>\n",
       "      <th>B42</th>\n",
       "      <th>B43</th>\n",
       "      <th>B44</th>\n",
       "      <th>B45</th>\n",
       "      <th>B46</th>\n",
       "    </tr>\n",
       "  </thead>\n",
       "  <tbody>\n",
       "    <tr>\n",
       "      <th>81</th>\n",
       "      <td>Santorum</td>\n",
       "      <td>R</td>\n",
       "      <td>PA</td>\n",
       "      <td>0</td>\n",
       "      <td>1</td>\n",
       "      <td>1</td>\n",
       "      <td>1</td>\n",
       "      <td>1</td>\n",
       "      <td>1</td>\n",
       "      <td>1</td>\n",
       "      <td>...</td>\n",
       "      <td>1</td>\n",
       "      <td>1</td>\n",
       "      <td>1</td>\n",
       "      <td>1</td>\n",
       "      <td>1</td>\n",
       "      <td>1</td>\n",
       "      <td>1</td>\n",
       "      <td>1</td>\n",
       "      <td>1</td>\n",
       "      <td>1</td>\n",
       "    </tr>\n",
       "  </tbody>\n",
       "</table>\n",
       "<p>1 rows × 49 columns</p>\n",
       "</div>"
      ],
      "text/plain": [
       "        Name Party State  B1  B2  B3  B4  B5  B6  B7  ...  B37  B38  B39  B40  \\\n",
       "81  Santorum     R    PA   0   1   1   1   1   1   1  ...    1    1    1    1   \n",
       "\n",
       "    B41  B42  B43  B44  B45  B46  \n",
       "81    1    1    1    1    1    1  \n",
       "\n",
       "[1 rows x 49 columns]"
      ]
     },
     "execution_count": 1404,
     "metadata": {},
     "output_type": "execute_result"
    }
   ],
   "source": [
    "# Find the location of Santorum's vector\n",
    "senate.loc[senate['Name'] == 'Santorum']"
   ]
  },
  {
   "cell_type": "code",
   "execution_count": 1405,
   "id": "8c353c28",
   "metadata": {},
   "outputs": [
    {
     "data": {
      "text/plain": [
       "6.708203932499369"
      ]
     },
     "execution_count": 1405,
     "metadata": {},
     "output_type": "execute_result"
    }
   ],
   "source": [
    "# Find the norm of Santorum's vector\n",
    "vs = norm(v[81])\n",
    "vs"
   ]
  },
  {
   "cell_type": "code",
   "execution_count": 1406,
   "id": "ebdf8757",
   "metadata": {},
   "outputs": [],
   "source": [
    "# Find the value of Cosine Distance \n",
    "cos_s = v @ v[81] / (vi*vs)"
   ]
  },
  {
   "cell_type": "code",
   "execution_count": 1407,
   "id": "f2ec0ebf",
   "metadata": {
    "scrolled": true
   },
   "outputs": [
    {
     "data": {
      "text/plain": [
       "39    Feingold\n",
       "76        Reed\n",
       "0        Akaka\n",
       "60       Leahy\n",
       "10       Boxer\n",
       "        ...   \n",
       "9         Bond\n",
       "92      Talent\n",
       "3        Allen\n",
       "43    Grassley\n",
       "81    Santorum\n",
       "Name: Name, Length: 99, dtype: object"
      ]
     },
     "execution_count": 1407,
     "metadata": {},
     "output_type": "execute_result"
    }
   ],
   "source": [
    "# Arrange in ascending order to find the farthest one from Santorum\n",
    "names[np.argsort(cos_s)]"
   ]
  },
  {
   "cell_type": "markdown",
   "id": "69ff419a",
   "metadata": {},
   "source": [
    "#### ∴ Based on the result, Feingold disagrees most with Pennsylvania senator, Rick Santorum."
   ]
  },
  {
   "cell_type": "markdown",
   "id": "5b664fb3",
   "metadata": {},
   "source": [
    "## · Would you classify Jeffords as closer to the Democrats or a Republicans?"
   ]
  },
  {
   "cell_type": "code",
   "execution_count": 1408,
   "id": "bf6cab50",
   "metadata": {},
   "outputs": [
    {
     "data": {
      "text/html": [
       "<div>\n",
       "<style scoped>\n",
       "    .dataframe tbody tr th:only-of-type {\n",
       "        vertical-align: middle;\n",
       "    }\n",
       "\n",
       "    .dataframe tbody tr th {\n",
       "        vertical-align: top;\n",
       "    }\n",
       "\n",
       "    .dataframe thead th {\n",
       "        text-align: right;\n",
       "    }\n",
       "</style>\n",
       "<table border=\"1\" class=\"dataframe\">\n",
       "  <thead>\n",
       "    <tr style=\"text-align: right;\">\n",
       "      <th></th>\n",
       "      <th>Name</th>\n",
       "      <th>Party</th>\n",
       "      <th>State</th>\n",
       "      <th>B1</th>\n",
       "      <th>B2</th>\n",
       "      <th>B3</th>\n",
       "      <th>B4</th>\n",
       "      <th>B5</th>\n",
       "      <th>B6</th>\n",
       "      <th>B7</th>\n",
       "      <th>...</th>\n",
       "      <th>B37</th>\n",
       "      <th>B38</th>\n",
       "      <th>B39</th>\n",
       "      <th>B40</th>\n",
       "      <th>B41</th>\n",
       "      <th>B42</th>\n",
       "      <th>B43</th>\n",
       "      <th>B44</th>\n",
       "      <th>B45</th>\n",
       "      <th>B46</th>\n",
       "    </tr>\n",
       "  </thead>\n",
       "  <tbody>\n",
       "    <tr>\n",
       "      <th>52</th>\n",
       "      <td>Jeffords</td>\n",
       "      <td>I</td>\n",
       "      <td>VT</td>\n",
       "      <td>1</td>\n",
       "      <td>-1</td>\n",
       "      <td>1</td>\n",
       "      <td>-1</td>\n",
       "      <td>1</td>\n",
       "      <td>1</td>\n",
       "      <td>-1</td>\n",
       "      <td>...</td>\n",
       "      <td>1</td>\n",
       "      <td>-1</td>\n",
       "      <td>-1</td>\n",
       "      <td>1</td>\n",
       "      <td>0</td>\n",
       "      <td>1</td>\n",
       "      <td>-1</td>\n",
       "      <td>1</td>\n",
       "      <td>1</td>\n",
       "      <td>-1</td>\n",
       "    </tr>\n",
       "  </tbody>\n",
       "</table>\n",
       "<p>1 rows × 49 columns</p>\n",
       "</div>"
      ],
      "text/plain": [
       "        Name Party State  B1  B2  B3  B4  B5  B6  B7  ...  B37  B38  B39  B40  \\\n",
       "52  Jeffords     I    VT   1  -1   1  -1   1   1  -1  ...    1   -1   -1    1   \n",
       "\n",
       "    B41  B42  B43  B44  B45  B46  \n",
       "52    0    1   -1    1    1   -1  \n",
       "\n",
       "[1 rows x 49 columns]"
      ]
     },
     "execution_count": 1408,
     "metadata": {},
     "output_type": "execute_result"
    }
   ],
   "source": [
    "# Find the location of Jeffords's vector\n",
    "senate.loc[senate['Name'] == 'Jeffords']"
   ]
  },
  {
   "cell_type": "code",
   "execution_count": 1409,
   "id": "6f7c58b1",
   "metadata": {},
   "outputs": [
    {
     "data": {
      "text/plain": [
       "6.708203932499369"
      ]
     },
     "execution_count": 1409,
     "metadata": {},
     "output_type": "execute_result"
    }
   ],
   "source": [
    "# Find the norm of Jefford's vector\n",
    "vj = norm(v[52])\n",
    "vj"
   ]
  },
  {
   "cell_type": "markdown",
   "id": "c647f394",
   "metadata": {},
   "source": [
    "### Compare Jefford's record with 5 people who are republicans"
   ]
  },
  {
   "cell_type": "markdown",
   "id": "2d4ed1d7",
   "metadata": {},
   "source": [
    "1. Compare 'Jeffords' with 'Allen' in Republicans"
   ]
  },
  {
   "cell_type": "code",
   "execution_count": 1410,
   "id": "22edbc22",
   "metadata": {},
   "outputs": [
    {
     "data": {
      "text/html": [
       "<div>\n",
       "<style scoped>\n",
       "    .dataframe tbody tr th:only-of-type {\n",
       "        vertical-align: middle;\n",
       "    }\n",
       "\n",
       "    .dataframe tbody tr th {\n",
       "        vertical-align: top;\n",
       "    }\n",
       "\n",
       "    .dataframe thead th {\n",
       "        text-align: right;\n",
       "    }\n",
       "</style>\n",
       "<table border=\"1\" class=\"dataframe\">\n",
       "  <thead>\n",
       "    <tr style=\"text-align: right;\">\n",
       "      <th></th>\n",
       "      <th>Name</th>\n",
       "      <th>Party</th>\n",
       "      <th>State</th>\n",
       "      <th>B1</th>\n",
       "      <th>B2</th>\n",
       "      <th>B3</th>\n",
       "      <th>B4</th>\n",
       "      <th>B5</th>\n",
       "      <th>B6</th>\n",
       "      <th>B7</th>\n",
       "      <th>...</th>\n",
       "      <th>B37</th>\n",
       "      <th>B38</th>\n",
       "      <th>B39</th>\n",
       "      <th>B40</th>\n",
       "      <th>B41</th>\n",
       "      <th>B42</th>\n",
       "      <th>B43</th>\n",
       "      <th>B44</th>\n",
       "      <th>B45</th>\n",
       "      <th>B46</th>\n",
       "    </tr>\n",
       "  </thead>\n",
       "  <tbody>\n",
       "    <tr>\n",
       "      <th>3</th>\n",
       "      <td>Allen</td>\n",
       "      <td>R</td>\n",
       "      <td>VA</td>\n",
       "      <td>1</td>\n",
       "      <td>1</td>\n",
       "      <td>1</td>\n",
       "      <td>1</td>\n",
       "      <td>1</td>\n",
       "      <td>1</td>\n",
       "      <td>1</td>\n",
       "      <td>...</td>\n",
       "      <td>1</td>\n",
       "      <td>1</td>\n",
       "      <td>1</td>\n",
       "      <td>1</td>\n",
       "      <td>1</td>\n",
       "      <td>1</td>\n",
       "      <td>1</td>\n",
       "      <td>1</td>\n",
       "      <td>1</td>\n",
       "      <td>1</td>\n",
       "    </tr>\n",
       "  </tbody>\n",
       "</table>\n",
       "<p>1 rows × 49 columns</p>\n",
       "</div>"
      ],
      "text/plain": [
       "    Name Party State  B1  B2  B3  B4  B5  B6  B7  ...  B37  B38  B39  B40  \\\n",
       "3  Allen     R    VA   1   1   1   1   1   1   1  ...    1    1    1    1   \n",
       "\n",
       "   B41  B42  B43  B44  B45  B46  \n",
       "3    1    1    1    1    1    1  \n",
       "\n",
       "[1 rows x 49 columns]"
      ]
     },
     "execution_count": 1410,
     "metadata": {},
     "output_type": "execute_result"
    }
   ],
   "source": [
    "senate.loc[senate['Name'] == 'Allen']"
   ]
  },
  {
   "cell_type": "code",
   "execution_count": 1411,
   "id": "29640cad",
   "metadata": {},
   "outputs": [],
   "source": [
    "va = norm(v[3])"
   ]
  },
  {
   "cell_type": "code",
   "execution_count": 1412,
   "id": "af790b8a",
   "metadata": {},
   "outputs": [
    {
     "data": {
      "text/plain": [
       "0.5494837278298225"
      ]
     },
     "execution_count": 1412,
     "metadata": {},
     "output_type": "execute_result"
    }
   ],
   "source": [
    "v[3] @ v[52] / (va*vj)"
   ]
  },
  {
   "cell_type": "markdown",
   "id": "ff2fac3b",
   "metadata": {},
   "source": [
    "2. Compare 'Jeffords' with 'Bond' in Republicans"
   ]
  },
  {
   "cell_type": "code",
   "execution_count": 1413,
   "id": "5ce1de3e",
   "metadata": {},
   "outputs": [
    {
     "data": {
      "text/html": [
       "<div>\n",
       "<style scoped>\n",
       "    .dataframe tbody tr th:only-of-type {\n",
       "        vertical-align: middle;\n",
       "    }\n",
       "\n",
       "    .dataframe tbody tr th {\n",
       "        vertical-align: top;\n",
       "    }\n",
       "\n",
       "    .dataframe thead th {\n",
       "        text-align: right;\n",
       "    }\n",
       "</style>\n",
       "<table border=\"1\" class=\"dataframe\">\n",
       "  <thead>\n",
       "    <tr style=\"text-align: right;\">\n",
       "      <th></th>\n",
       "      <th>Name</th>\n",
       "      <th>Party</th>\n",
       "      <th>State</th>\n",
       "      <th>B1</th>\n",
       "      <th>B2</th>\n",
       "      <th>B3</th>\n",
       "      <th>B4</th>\n",
       "      <th>B5</th>\n",
       "      <th>B6</th>\n",
       "      <th>B7</th>\n",
       "      <th>...</th>\n",
       "      <th>B37</th>\n",
       "      <th>B38</th>\n",
       "      <th>B39</th>\n",
       "      <th>B40</th>\n",
       "      <th>B41</th>\n",
       "      <th>B42</th>\n",
       "      <th>B43</th>\n",
       "      <th>B44</th>\n",
       "      <th>B45</th>\n",
       "      <th>B46</th>\n",
       "    </tr>\n",
       "  </thead>\n",
       "  <tbody>\n",
       "    <tr>\n",
       "      <th>9</th>\n",
       "      <td>Bond</td>\n",
       "      <td>R</td>\n",
       "      <td>MO</td>\n",
       "      <td>1</td>\n",
       "      <td>1</td>\n",
       "      <td>1</td>\n",
       "      <td>1</td>\n",
       "      <td>1</td>\n",
       "      <td>1</td>\n",
       "      <td>1</td>\n",
       "      <td>...</td>\n",
       "      <td>1</td>\n",
       "      <td>1</td>\n",
       "      <td>1</td>\n",
       "      <td>1</td>\n",
       "      <td>1</td>\n",
       "      <td>1</td>\n",
       "      <td>1</td>\n",
       "      <td>1</td>\n",
       "      <td>1</td>\n",
       "      <td>1</td>\n",
       "    </tr>\n",
       "  </tbody>\n",
       "</table>\n",
       "<p>1 rows × 49 columns</p>\n",
       "</div>"
      ],
      "text/plain": [
       "   Name Party State  B1  B2  B3  B4  B5  B6  B7  ...  B37  B38  B39  B40  B41  \\\n",
       "9  Bond     R    MO   1   1   1   1   1   1   1  ...    1    1    1    1    1   \n",
       "\n",
       "   B42  B43  B44  B45  B46  \n",
       "9    1    1    1    1    1  \n",
       "\n",
       "[1 rows x 49 columns]"
      ]
     },
     "execution_count": 1413,
     "metadata": {},
     "output_type": "execute_result"
    }
   ],
   "source": [
    "senate.loc[senate['Name'] == 'Bond']"
   ]
  },
  {
   "cell_type": "code",
   "execution_count": 1414,
   "id": "607d3a9b",
   "metadata": {},
   "outputs": [],
   "source": [
    "vb = norm(v[9])"
   ]
  },
  {
   "cell_type": "code",
   "execution_count": 1415,
   "id": "8e90d887",
   "metadata": {},
   "outputs": [
    {
     "data": {
      "text/plain": [
       "0.5494837278298225"
      ]
     },
     "execution_count": 1415,
     "metadata": {},
     "output_type": "execute_result"
    }
   ],
   "source": [
    "v[9] @ v[52] / (vb*vj)"
   ]
  },
  {
   "cell_type": "markdown",
   "id": "f0a65f56",
   "metadata": {},
   "source": [
    "3. Compare 'Jeffords' with 'Coburn' in Republicans"
   ]
  },
  {
   "cell_type": "code",
   "execution_count": 1416,
   "id": "302c9ab1",
   "metadata": {},
   "outputs": [
    {
     "data": {
      "text/html": [
       "<div>\n",
       "<style scoped>\n",
       "    .dataframe tbody tr th:only-of-type {\n",
       "        vertical-align: middle;\n",
       "    }\n",
       "\n",
       "    .dataframe tbody tr th {\n",
       "        vertical-align: top;\n",
       "    }\n",
       "\n",
       "    .dataframe thead th {\n",
       "        text-align: right;\n",
       "    }\n",
       "</style>\n",
       "<table border=\"1\" class=\"dataframe\">\n",
       "  <thead>\n",
       "    <tr style=\"text-align: right;\">\n",
       "      <th></th>\n",
       "      <th>Name</th>\n",
       "      <th>Party</th>\n",
       "      <th>State</th>\n",
       "      <th>B1</th>\n",
       "      <th>B2</th>\n",
       "      <th>B3</th>\n",
       "      <th>B4</th>\n",
       "      <th>B5</th>\n",
       "      <th>B6</th>\n",
       "      <th>B7</th>\n",
       "      <th>...</th>\n",
       "      <th>B37</th>\n",
       "      <th>B38</th>\n",
       "      <th>B39</th>\n",
       "      <th>B40</th>\n",
       "      <th>B41</th>\n",
       "      <th>B42</th>\n",
       "      <th>B43</th>\n",
       "      <th>B44</th>\n",
       "      <th>B45</th>\n",
       "      <th>B46</th>\n",
       "    </tr>\n",
       "  </thead>\n",
       "  <tbody>\n",
       "    <tr>\n",
       "      <th>21</th>\n",
       "      <td>Coburn</td>\n",
       "      <td>R</td>\n",
       "      <td>OK</td>\n",
       "      <td>1</td>\n",
       "      <td>-1</td>\n",
       "      <td>1</td>\n",
       "      <td>1</td>\n",
       "      <td>1</td>\n",
       "      <td>1</td>\n",
       "      <td>1</td>\n",
       "      <td>...</td>\n",
       "      <td>1</td>\n",
       "      <td>1</td>\n",
       "      <td>1</td>\n",
       "      <td>1</td>\n",
       "      <td>1</td>\n",
       "      <td>1</td>\n",
       "      <td>1</td>\n",
       "      <td>1</td>\n",
       "      <td>1</td>\n",
       "      <td>1</td>\n",
       "    </tr>\n",
       "  </tbody>\n",
       "</table>\n",
       "<p>1 rows × 49 columns</p>\n",
       "</div>"
      ],
      "text/plain": [
       "      Name Party State  B1  B2  B3  B4  B5  B6  B7  ...  B37  B38  B39  B40  \\\n",
       "21  Coburn     R    OK   1  -1   1   1   1   1   1  ...    1    1    1    1   \n",
       "\n",
       "    B41  B42  B43  B44  B45  B46  \n",
       "21    1    1    1    1    1    1  \n",
       "\n",
       "[1 rows x 49 columns]"
      ]
     },
     "execution_count": 1416,
     "metadata": {},
     "output_type": "execute_result"
    }
   ],
   "source": [
    "senate.loc[senate['Name'] == 'Coburn']"
   ]
  },
  {
   "cell_type": "code",
   "execution_count": 1417,
   "id": "20a40aca",
   "metadata": {},
   "outputs": [],
   "source": [
    "vco = norm(v[21])"
   ]
  },
  {
   "cell_type": "code",
   "execution_count": 1418,
   "id": "b2e99c47",
   "metadata": {},
   "outputs": [
    {
     "data": {
      "text/plain": [
       "0.22222222222222218"
      ]
     },
     "execution_count": 1418,
     "metadata": {},
     "output_type": "execute_result"
    }
   ],
   "source": [
    "v[21] @ v[52] / (vco*vj)"
   ]
  },
  {
   "cell_type": "markdown",
   "id": "42b5b613",
   "metadata": {},
   "source": [
    "4. Compare 'Jeffords' with 'Dole' in Republicans"
   ]
  },
  {
   "cell_type": "code",
   "execution_count": 1419,
   "id": "deb1cbd8",
   "metadata": {},
   "outputs": [
    {
     "data": {
      "text/html": [
       "<div>\n",
       "<style scoped>\n",
       "    .dataframe tbody tr th:only-of-type {\n",
       "        vertical-align: middle;\n",
       "    }\n",
       "\n",
       "    .dataframe tbody tr th {\n",
       "        vertical-align: top;\n",
       "    }\n",
       "\n",
       "    .dataframe thead th {\n",
       "        text-align: right;\n",
       "    }\n",
       "</style>\n",
       "<table border=\"1\" class=\"dataframe\">\n",
       "  <thead>\n",
       "    <tr style=\"text-align: right;\">\n",
       "      <th></th>\n",
       "      <th>Name</th>\n",
       "      <th>Party</th>\n",
       "      <th>State</th>\n",
       "      <th>B1</th>\n",
       "      <th>B2</th>\n",
       "      <th>B3</th>\n",
       "      <th>B4</th>\n",
       "      <th>B5</th>\n",
       "      <th>B6</th>\n",
       "      <th>B7</th>\n",
       "      <th>...</th>\n",
       "      <th>B37</th>\n",
       "      <th>B38</th>\n",
       "      <th>B39</th>\n",
       "      <th>B40</th>\n",
       "      <th>B41</th>\n",
       "      <th>B42</th>\n",
       "      <th>B43</th>\n",
       "      <th>B44</th>\n",
       "      <th>B45</th>\n",
       "      <th>B46</th>\n",
       "    </tr>\n",
       "  </thead>\n",
       "  <tbody>\n",
       "    <tr>\n",
       "      <th>33</th>\n",
       "      <td>Dole</td>\n",
       "      <td>R</td>\n",
       "      <td>NC</td>\n",
       "      <td>1</td>\n",
       "      <td>1</td>\n",
       "      <td>1</td>\n",
       "      <td>1</td>\n",
       "      <td>1</td>\n",
       "      <td>1</td>\n",
       "      <td>1</td>\n",
       "      <td>...</td>\n",
       "      <td>1</td>\n",
       "      <td>1</td>\n",
       "      <td>1</td>\n",
       "      <td>1</td>\n",
       "      <td>1</td>\n",
       "      <td>1</td>\n",
       "      <td>1</td>\n",
       "      <td>1</td>\n",
       "      <td>1</td>\n",
       "      <td>1</td>\n",
       "    </tr>\n",
       "  </tbody>\n",
       "</table>\n",
       "<p>1 rows × 49 columns</p>\n",
       "</div>"
      ],
      "text/plain": [
       "    Name Party State  B1  B2  B3  B4  B5  B6  B7  ...  B37  B38  B39  B40  \\\n",
       "33  Dole     R    NC   1   1   1   1   1   1   1  ...    1    1    1    1   \n",
       "\n",
       "    B41  B42  B43  B44  B45  B46  \n",
       "33    1    1    1    1    1    1  \n",
       "\n",
       "[1 rows x 49 columns]"
      ]
     },
     "execution_count": 1419,
     "metadata": {},
     "output_type": "execute_result"
    }
   ],
   "source": [
    "senate.loc[senate['Name'] == 'Dole']"
   ]
  },
  {
   "cell_type": "code",
   "execution_count": 1420,
   "id": "020c4c0d",
   "metadata": {},
   "outputs": [],
   "source": [
    "vd = norm(v[33])"
   ]
  },
  {
   "cell_type": "code",
   "execution_count": 1421,
   "id": "d721a85a",
   "metadata": {},
   "outputs": [
    {
     "data": {
      "text/plain": [
       "0.4615663313770509"
      ]
     },
     "execution_count": 1421,
     "metadata": {},
     "output_type": "execute_result"
    }
   ],
   "source": [
    "v[33] @ v[52] / (vd*vj)"
   ]
  },
  {
   "cell_type": "markdown",
   "id": "b0081428",
   "metadata": {},
   "source": [
    "5. Compare 'Jeffords' with 'Ensign' in Republicans\n"
   ]
  },
  {
   "cell_type": "code",
   "execution_count": 1422,
   "id": "5f7d8a36",
   "metadata": {},
   "outputs": [
    {
     "data": {
      "text/html": [
       "<div>\n",
       "<style scoped>\n",
       "    .dataframe tbody tr th:only-of-type {\n",
       "        vertical-align: middle;\n",
       "    }\n",
       "\n",
       "    .dataframe tbody tr th {\n",
       "        vertical-align: top;\n",
       "    }\n",
       "\n",
       "    .dataframe thead th {\n",
       "        text-align: right;\n",
       "    }\n",
       "</style>\n",
       "<table border=\"1\" class=\"dataframe\">\n",
       "  <thead>\n",
       "    <tr style=\"text-align: right;\">\n",
       "      <th></th>\n",
       "      <th>Name</th>\n",
       "      <th>Party</th>\n",
       "      <th>State</th>\n",
       "      <th>B1</th>\n",
       "      <th>B2</th>\n",
       "      <th>B3</th>\n",
       "      <th>B4</th>\n",
       "      <th>B5</th>\n",
       "      <th>B6</th>\n",
       "      <th>B7</th>\n",
       "      <th>...</th>\n",
       "      <th>B37</th>\n",
       "      <th>B38</th>\n",
       "      <th>B39</th>\n",
       "      <th>B40</th>\n",
       "      <th>B41</th>\n",
       "      <th>B42</th>\n",
       "      <th>B43</th>\n",
       "      <th>B44</th>\n",
       "      <th>B45</th>\n",
       "      <th>B46</th>\n",
       "    </tr>\n",
       "  </thead>\n",
       "  <tbody>\n",
       "    <tr>\n",
       "      <th>37</th>\n",
       "      <td>Ensign</td>\n",
       "      <td>R</td>\n",
       "      <td>NV</td>\n",
       "      <td>1</td>\n",
       "      <td>1</td>\n",
       "      <td>1</td>\n",
       "      <td>1</td>\n",
       "      <td>1</td>\n",
       "      <td>1</td>\n",
       "      <td>-1</td>\n",
       "      <td>...</td>\n",
       "      <td>1</td>\n",
       "      <td>1</td>\n",
       "      <td>1</td>\n",
       "      <td>1</td>\n",
       "      <td>1</td>\n",
       "      <td>-1</td>\n",
       "      <td>1</td>\n",
       "      <td>1</td>\n",
       "      <td>1</td>\n",
       "      <td>1</td>\n",
       "    </tr>\n",
       "  </tbody>\n",
       "</table>\n",
       "<p>1 rows × 49 columns</p>\n",
       "</div>"
      ],
      "text/plain": [
       "      Name Party State  B1  B2  B3  B4  B5  B6  B7  ...  B37  B38  B39  B40  \\\n",
       "37  Ensign     R    NV   1   1   1   1   1   1  -1  ...    1    1    1    1   \n",
       "\n",
       "    B41  B42  B43  B44  B45  B46  \n",
       "37    1   -1    1    1    1    1  \n",
       "\n",
       "[1 rows x 49 columns]"
      ]
     },
     "execution_count": 1422,
     "metadata": {},
     "output_type": "execute_result"
    }
   ],
   "source": [
    "senate.loc[senate['Name'] == 'Ensign']"
   ]
  },
  {
   "cell_type": "code",
   "execution_count": 1423,
   "id": "8633435b",
   "metadata": {},
   "outputs": [],
   "source": [
    "ve = norm(v[37])"
   ]
  },
  {
   "cell_type": "code",
   "execution_count": 1424,
   "id": "8ed82ebf",
   "metadata": {},
   "outputs": [
    {
     "data": {
      "text/plain": [
       "0.4615663313770509"
      ]
     },
     "execution_count": 1424,
     "metadata": {},
     "output_type": "execute_result"
    }
   ],
   "source": [
    "v[37] @ v[52] / (ve*vj)"
   ]
  },
  {
   "cell_type": "markdown",
   "id": "efa93187",
   "metadata": {},
   "source": [
    "### Compare Jefford's record with 5 people who are Democrats"
   ]
  },
  {
   "cell_type": "markdown",
   "id": "70d8e458",
   "metadata": {},
   "source": [
    "1. Compare 'Jeffords' with 'Harkin' in Democrats"
   ]
  },
  {
   "cell_type": "code",
   "execution_count": 1425,
   "id": "da4b413d",
   "metadata": {},
   "outputs": [
    {
     "data": {
      "text/html": [
       "<div>\n",
       "<style scoped>\n",
       "    .dataframe tbody tr th:only-of-type {\n",
       "        vertical-align: middle;\n",
       "    }\n",
       "\n",
       "    .dataframe tbody tr th {\n",
       "        vertical-align: top;\n",
       "    }\n",
       "\n",
       "    .dataframe thead th {\n",
       "        text-align: right;\n",
       "    }\n",
       "</style>\n",
       "<table border=\"1\" class=\"dataframe\">\n",
       "  <thead>\n",
       "    <tr style=\"text-align: right;\">\n",
       "      <th></th>\n",
       "      <th>Name</th>\n",
       "      <th>Party</th>\n",
       "      <th>State</th>\n",
       "      <th>B1</th>\n",
       "      <th>B2</th>\n",
       "      <th>B3</th>\n",
       "      <th>B4</th>\n",
       "      <th>B5</th>\n",
       "      <th>B6</th>\n",
       "      <th>B7</th>\n",
       "      <th>...</th>\n",
       "      <th>B37</th>\n",
       "      <th>B38</th>\n",
       "      <th>B39</th>\n",
       "      <th>B40</th>\n",
       "      <th>B41</th>\n",
       "      <th>B42</th>\n",
       "      <th>B43</th>\n",
       "      <th>B44</th>\n",
       "      <th>B45</th>\n",
       "      <th>B46</th>\n",
       "    </tr>\n",
       "  </thead>\n",
       "  <tbody>\n",
       "    <tr>\n",
       "      <th>46</th>\n",
       "      <td>Harkin</td>\n",
       "      <td>D</td>\n",
       "      <td>IA</td>\n",
       "      <td>-1</td>\n",
       "      <td>-1</td>\n",
       "      <td>1</td>\n",
       "      <td>-1</td>\n",
       "      <td>1</td>\n",
       "      <td>-1</td>\n",
       "      <td>-1</td>\n",
       "      <td>...</td>\n",
       "      <td>1</td>\n",
       "      <td>-1</td>\n",
       "      <td>1</td>\n",
       "      <td>1</td>\n",
       "      <td>-1</td>\n",
       "      <td>1</td>\n",
       "      <td>-1</td>\n",
       "      <td>1</td>\n",
       "      <td>1</td>\n",
       "      <td>-1</td>\n",
       "    </tr>\n",
       "  </tbody>\n",
       "</table>\n",
       "<p>1 rows × 49 columns</p>\n",
       "</div>"
      ],
      "text/plain": [
       "      Name Party State  B1  B2  B3  B4  B5  B6  B7  ...  B37  B38  B39  B40  \\\n",
       "46  Harkin     D    IA  -1  -1   1  -1   1  -1  -1  ...    1   -1    1    1   \n",
       "\n",
       "    B41  B42  B43  B44  B45  B46  \n",
       "46   -1    1   -1    1    1   -1  \n",
       "\n",
       "[1 rows x 49 columns]"
      ]
     },
     "execution_count": 1425,
     "metadata": {},
     "output_type": "execute_result"
    }
   ],
   "source": [
    "senate.loc[senate['Name'] == 'Harkin']"
   ]
  },
  {
   "cell_type": "code",
   "execution_count": 1426,
   "id": "0a2fbc38",
   "metadata": {},
   "outputs": [],
   "source": [
    "vh = norm(v[46])"
   ]
  },
  {
   "cell_type": "code",
   "execution_count": 1427,
   "id": "b5ba9a36",
   "metadata": {},
   "outputs": [
    {
     "data": {
      "text/plain": [
       "0.6666666666666665"
      ]
     },
     "execution_count": 1427,
     "metadata": {},
     "output_type": "execute_result"
    }
   ],
   "source": [
    "v[46] @ v[52] / (vh*vj)"
   ]
  },
  {
   "cell_type": "markdown",
   "id": "e07ea95a",
   "metadata": {},
   "source": [
    "2. Compare 'Jeffords' with 'Inouye' in Democrats"
   ]
  },
  {
   "cell_type": "code",
   "execution_count": 1428,
   "id": "418627d1",
   "metadata": {},
   "outputs": [
    {
     "data": {
      "text/html": [
       "<div>\n",
       "<style scoped>\n",
       "    .dataframe tbody tr th:only-of-type {\n",
       "        vertical-align: middle;\n",
       "    }\n",
       "\n",
       "    .dataframe tbody tr th {\n",
       "        vertical-align: top;\n",
       "    }\n",
       "\n",
       "    .dataframe thead th {\n",
       "        text-align: right;\n",
       "    }\n",
       "</style>\n",
       "<table border=\"1\" class=\"dataframe\">\n",
       "  <thead>\n",
       "    <tr style=\"text-align: right;\">\n",
       "      <th></th>\n",
       "      <th>Name</th>\n",
       "      <th>Party</th>\n",
       "      <th>State</th>\n",
       "      <th>B1</th>\n",
       "      <th>B2</th>\n",
       "      <th>B3</th>\n",
       "      <th>B4</th>\n",
       "      <th>B5</th>\n",
       "      <th>B6</th>\n",
       "      <th>B7</th>\n",
       "      <th>...</th>\n",
       "      <th>B37</th>\n",
       "      <th>B38</th>\n",
       "      <th>B39</th>\n",
       "      <th>B40</th>\n",
       "      <th>B41</th>\n",
       "      <th>B42</th>\n",
       "      <th>B43</th>\n",
       "      <th>B44</th>\n",
       "      <th>B45</th>\n",
       "      <th>B46</th>\n",
       "    </tr>\n",
       "  </thead>\n",
       "  <tbody>\n",
       "    <tr>\n",
       "      <th>50</th>\n",
       "      <td>Inouye</td>\n",
       "      <td>D</td>\n",
       "      <td>HI</td>\n",
       "      <td>-1</td>\n",
       "      <td>-1</td>\n",
       "      <td>1</td>\n",
       "      <td>0</td>\n",
       "      <td>1</td>\n",
       "      <td>1</td>\n",
       "      <td>-1</td>\n",
       "      <td>...</td>\n",
       "      <td>1</td>\n",
       "      <td>-1</td>\n",
       "      <td>-1</td>\n",
       "      <td>0</td>\n",
       "      <td>1</td>\n",
       "      <td>0</td>\n",
       "      <td>-1</td>\n",
       "      <td>1</td>\n",
       "      <td>1</td>\n",
       "      <td>-1</td>\n",
       "    </tr>\n",
       "  </tbody>\n",
       "</table>\n",
       "<p>1 rows × 49 columns</p>\n",
       "</div>"
      ],
      "text/plain": [
       "      Name Party State  B1  B2  B3  B4  B5  B6  B7  ...  B37  B38  B39  B40  \\\n",
       "50  Inouye     D    HI  -1  -1   1   0   1   1  -1  ...    1   -1   -1    0   \n",
       "\n",
       "    B41  B42  B43  B44  B45  B46  \n",
       "50    1    0   -1    1    1   -1  \n",
       "\n",
       "[1 rows x 49 columns]"
      ]
     },
     "execution_count": 1428,
     "metadata": {},
     "output_type": "execute_result"
    }
   ],
   "source": [
    "senate.loc[senate['Name'] == 'Inouye']"
   ]
  },
  {
   "cell_type": "code",
   "execution_count": 1429,
   "id": "70b155e7",
   "metadata": {},
   "outputs": [],
   "source": [
    "vi = norm(v[50])"
   ]
  },
  {
   "cell_type": "code",
   "execution_count": 1430,
   "id": "3e609f25",
   "metadata": {},
   "outputs": [
    {
     "data": {
      "text/plain": [
       "0.6518682760516064"
      ]
     },
     "execution_count": 1430,
     "metadata": {},
     "output_type": "execute_result"
    }
   ],
   "source": [
    "v[50] @ v[52] / (vi*vj)"
   ]
  },
  {
   "cell_type": "markdown",
   "id": "b6c6bf3a",
   "metadata": {},
   "source": [
    "3. Compare 'Jeffords' with 'Johnson' in Democrats"
   ]
  },
  {
   "cell_type": "code",
   "execution_count": 1431,
   "id": "d8366afe",
   "metadata": {},
   "outputs": [
    {
     "data": {
      "text/html": [
       "<div>\n",
       "<style scoped>\n",
       "    .dataframe tbody tr th:only-of-type {\n",
       "        vertical-align: middle;\n",
       "    }\n",
       "\n",
       "    .dataframe tbody tr th {\n",
       "        vertical-align: top;\n",
       "    }\n",
       "\n",
       "    .dataframe thead th {\n",
       "        text-align: right;\n",
       "    }\n",
       "</style>\n",
       "<table border=\"1\" class=\"dataframe\">\n",
       "  <thead>\n",
       "    <tr style=\"text-align: right;\">\n",
       "      <th></th>\n",
       "      <th>Name</th>\n",
       "      <th>Party</th>\n",
       "      <th>State</th>\n",
       "      <th>B1</th>\n",
       "      <th>B2</th>\n",
       "      <th>B3</th>\n",
       "      <th>B4</th>\n",
       "      <th>B5</th>\n",
       "      <th>B6</th>\n",
       "      <th>B7</th>\n",
       "      <th>...</th>\n",
       "      <th>B37</th>\n",
       "      <th>B38</th>\n",
       "      <th>B39</th>\n",
       "      <th>B40</th>\n",
       "      <th>B41</th>\n",
       "      <th>B42</th>\n",
       "      <th>B43</th>\n",
       "      <th>B44</th>\n",
       "      <th>B45</th>\n",
       "      <th>B46</th>\n",
       "    </tr>\n",
       "  </thead>\n",
       "  <tbody>\n",
       "    <tr>\n",
       "      <th>53</th>\n",
       "      <td>Johnson</td>\n",
       "      <td>D</td>\n",
       "      <td>SD</td>\n",
       "      <td>1</td>\n",
       "      <td>1</td>\n",
       "      <td>1</td>\n",
       "      <td>1</td>\n",
       "      <td>1</td>\n",
       "      <td>1</td>\n",
       "      <td>-1</td>\n",
       "      <td>...</td>\n",
       "      <td>1</td>\n",
       "      <td>1</td>\n",
       "      <td>1</td>\n",
       "      <td>1</td>\n",
       "      <td>-1</td>\n",
       "      <td>1</td>\n",
       "      <td>-1</td>\n",
       "      <td>1</td>\n",
       "      <td>1</td>\n",
       "      <td>1</td>\n",
       "    </tr>\n",
       "  </tbody>\n",
       "</table>\n",
       "<p>1 rows × 49 columns</p>\n",
       "</div>"
      ],
      "text/plain": [
       "       Name Party State  B1  B2  B3  B4  B5  B6  B7  ...  B37  B38  B39  B40  \\\n",
       "53  Johnson     D    SD   1   1   1   1   1   1  -1  ...    1    1    1    1   \n",
       "\n",
       "    B41  B42  B43  B44  B45  B46  \n",
       "53   -1    1   -1    1    1    1  \n",
       "\n",
       "[1 rows x 49 columns]"
      ]
     },
     "execution_count": 1431,
     "metadata": {},
     "output_type": "execute_result"
    }
   ],
   "source": [
    "senate.loc[senate['Name'] == 'Johnson']"
   ]
  },
  {
   "cell_type": "code",
   "execution_count": 1432,
   "id": "69cda19a",
   "metadata": {},
   "outputs": [],
   "source": [
    "vjo = norm(v[53])"
   ]
  },
  {
   "cell_type": "code",
   "execution_count": 1433,
   "id": "15b575e5",
   "metadata": {},
   "outputs": [
    {
     "data": {
      "text/plain": [
       "0.5494837278298225"
      ]
     },
     "execution_count": 1433,
     "metadata": {},
     "output_type": "execute_result"
    }
   ],
   "source": [
    "v[53] @ v[52] / (vjo*vj)"
   ]
  },
  {
   "cell_type": "markdown",
   "id": "94e9a4cb",
   "metadata": {},
   "source": [
    "4. Compare 'Jeffords' with 'Kohl' in Democrats"
   ]
  },
  {
   "cell_type": "code",
   "execution_count": 1434,
   "id": "e6390f83",
   "metadata": {},
   "outputs": [
    {
     "data": {
      "text/html": [
       "<div>\n",
       "<style scoped>\n",
       "    .dataframe tbody tr th:only-of-type {\n",
       "        vertical-align: middle;\n",
       "    }\n",
       "\n",
       "    .dataframe tbody tr th {\n",
       "        vertical-align: top;\n",
       "    }\n",
       "\n",
       "    .dataframe thead th {\n",
       "        text-align: right;\n",
       "    }\n",
       "</style>\n",
       "<table border=\"1\" class=\"dataframe\">\n",
       "  <thead>\n",
       "    <tr style=\"text-align: right;\">\n",
       "      <th></th>\n",
       "      <th>Name</th>\n",
       "      <th>Party</th>\n",
       "      <th>State</th>\n",
       "      <th>B1</th>\n",
       "      <th>B2</th>\n",
       "      <th>B3</th>\n",
       "      <th>B4</th>\n",
       "      <th>B5</th>\n",
       "      <th>B6</th>\n",
       "      <th>B7</th>\n",
       "      <th>...</th>\n",
       "      <th>B37</th>\n",
       "      <th>B38</th>\n",
       "      <th>B39</th>\n",
       "      <th>B40</th>\n",
       "      <th>B41</th>\n",
       "      <th>B42</th>\n",
       "      <th>B43</th>\n",
       "      <th>B44</th>\n",
       "      <th>B45</th>\n",
       "      <th>B46</th>\n",
       "    </tr>\n",
       "  </thead>\n",
       "  <tbody>\n",
       "    <tr>\n",
       "      <th>56</th>\n",
       "      <td>Kohl</td>\n",
       "      <td>D</td>\n",
       "      <td>WI</td>\n",
       "      <td>1</td>\n",
       "      <td>-1</td>\n",
       "      <td>1</td>\n",
       "      <td>1</td>\n",
       "      <td>1</td>\n",
       "      <td>1</td>\n",
       "      <td>-1</td>\n",
       "      <td>...</td>\n",
       "      <td>1</td>\n",
       "      <td>-1</td>\n",
       "      <td>1</td>\n",
       "      <td>1</td>\n",
       "      <td>1</td>\n",
       "      <td>1</td>\n",
       "      <td>-1</td>\n",
       "      <td>1</td>\n",
       "      <td>1</td>\n",
       "      <td>-1</td>\n",
       "    </tr>\n",
       "  </tbody>\n",
       "</table>\n",
       "<p>1 rows × 49 columns</p>\n",
       "</div>"
      ],
      "text/plain": [
       "    Name Party State  B1  B2  B3  B4  B5  B6  B7  ...  B37  B38  B39  B40  \\\n",
       "56  Kohl     D    WI   1  -1   1   1   1   1  -1  ...    1   -1    1    1   \n",
       "\n",
       "    B41  B42  B43  B44  B45  B46  \n",
       "56    1    1   -1    1    1   -1  \n",
       "\n",
       "[1 rows x 49 columns]"
      ]
     },
     "execution_count": 1434,
     "metadata": {},
     "output_type": "execute_result"
    }
   ],
   "source": [
    "senate.loc[senate['Name'] == 'Kohl']"
   ]
  },
  {
   "cell_type": "code",
   "execution_count": 1435,
   "id": "12bab206",
   "metadata": {},
   "outputs": [],
   "source": [
    "vk = norm(v[56])"
   ]
  },
  {
   "cell_type": "code",
   "execution_count": 1436,
   "id": "0023fa0a",
   "metadata": {},
   "outputs": [
    {
     "data": {
      "text/plain": [
       "0.637401124282594"
      ]
     },
     "execution_count": 1436,
     "metadata": {},
     "output_type": "execute_result"
    }
   ],
   "source": [
    "v[56] @ v[52] / (vk*vj)"
   ]
  },
  {
   "cell_type": "markdown",
   "id": "c254a844",
   "metadata": {},
   "source": [
    "5. Compare 'Jeffords' with 'Levin' in Democrats"
   ]
  },
  {
   "cell_type": "code",
   "execution_count": 1437,
   "id": "68259782",
   "metadata": {},
   "outputs": [
    {
     "data": {
      "text/html": [
       "<div>\n",
       "<style scoped>\n",
       "    .dataframe tbody tr th:only-of-type {\n",
       "        vertical-align: middle;\n",
       "    }\n",
       "\n",
       "    .dataframe tbody tr th {\n",
       "        vertical-align: top;\n",
       "    }\n",
       "\n",
       "    .dataframe thead th {\n",
       "        text-align: right;\n",
       "    }\n",
       "</style>\n",
       "<table border=\"1\" class=\"dataframe\">\n",
       "  <thead>\n",
       "    <tr style=\"text-align: right;\">\n",
       "      <th></th>\n",
       "      <th>Name</th>\n",
       "      <th>Party</th>\n",
       "      <th>State</th>\n",
       "      <th>B1</th>\n",
       "      <th>B2</th>\n",
       "      <th>B3</th>\n",
       "      <th>B4</th>\n",
       "      <th>B5</th>\n",
       "      <th>B6</th>\n",
       "      <th>B7</th>\n",
       "      <th>...</th>\n",
       "      <th>B37</th>\n",
       "      <th>B38</th>\n",
       "      <th>B39</th>\n",
       "      <th>B40</th>\n",
       "      <th>B41</th>\n",
       "      <th>B42</th>\n",
       "      <th>B43</th>\n",
       "      <th>B44</th>\n",
       "      <th>B45</th>\n",
       "      <th>B46</th>\n",
       "    </tr>\n",
       "  </thead>\n",
       "  <tbody>\n",
       "    <tr>\n",
       "      <th>61</th>\n",
       "      <td>Levin</td>\n",
       "      <td>D</td>\n",
       "      <td>MI</td>\n",
       "      <td>-1</td>\n",
       "      <td>-1</td>\n",
       "      <td>1</td>\n",
       "      <td>1</td>\n",
       "      <td>1</td>\n",
       "      <td>-1</td>\n",
       "      <td>-1</td>\n",
       "      <td>...</td>\n",
       "      <td>1</td>\n",
       "      <td>-1</td>\n",
       "      <td>-1</td>\n",
       "      <td>1</td>\n",
       "      <td>1</td>\n",
       "      <td>1</td>\n",
       "      <td>-1</td>\n",
       "      <td>1</td>\n",
       "      <td>-1</td>\n",
       "      <td>-1</td>\n",
       "    </tr>\n",
       "  </tbody>\n",
       "</table>\n",
       "<p>1 rows × 49 columns</p>\n",
       "</div>"
      ],
      "text/plain": [
       "     Name Party State  B1  B2  B3  B4  B5  B6  B7  ...  B37  B38  B39  B40  \\\n",
       "61  Levin     D    MI  -1  -1   1   1   1  -1  -1  ...    1   -1   -1    1   \n",
       "\n",
       "    B41  B42  B43  B44  B45  B46  \n",
       "61    1    1   -1    1   -1   -1  \n",
       "\n",
       "[1 rows x 49 columns]"
      ]
     },
     "execution_count": 1437,
     "metadata": {},
     "output_type": "execute_result"
    }
   ],
   "source": [
    "senate.loc[senate['Name'] == 'Levin']"
   ]
  },
  {
   "cell_type": "code",
   "execution_count": 1438,
   "id": "0069079a",
   "metadata": {},
   "outputs": [],
   "source": [
    "vl = norm(v[61])"
   ]
  },
  {
   "cell_type": "code",
   "execution_count": 1439,
   "id": "bbab2e8e",
   "metadata": {},
   "outputs": [
    {
     "data": {
      "text/plain": [
       "0.637401124282594"
      ]
     },
     "execution_count": 1439,
     "metadata": {},
     "output_type": "execute_result"
    }
   ],
   "source": [
    "v[61] @ v[52] / (vl*vj)"
   ]
  },
  {
   "cell_type": "markdown",
   "id": "09e0bfa8",
   "metadata": {},
   "source": [
    "### Compare Jefford's record with each average of republicnas and democrats"
   ]
  },
  {
   "cell_type": "code",
   "execution_count": 1445,
   "id": "61e45d2f",
   "metadata": {},
   "outputs": [
    {
     "data": {
      "text/plain": [
       "6.082762530298219"
      ]
     },
     "execution_count": 1445,
     "metadata": {},
     "output_type": "execute_result"
    }
   ],
   "source": [
    "# Find the vector and norm of the average of republicans\n",
    "vrs = v[[3,9,21,33,37]]\n",
    "vrsm = vrs.sum(axis=0)/5\n",
    "vrsm_n = norm(vrsm) \n",
    "vrsm_n"
   ]
  },
  {
   "cell_type": "code",
   "execution_count": 1446,
   "id": "f612cc77",
   "metadata": {},
   "outputs": [
    {
     "data": {
      "text/plain": [
       "5.892367945062495"
      ]
     },
     "execution_count": 1446,
     "metadata": {},
     "output_type": "execute_result"
    }
   ],
   "source": [
    "# Find the vector and norm of the average of democrats\n",
    "vds = v[[46,50,53,56,61]]\n",
    "vdsm = vds.sum(axis=0)/5\n",
    "vdsm_n = norm(vdsm)\n",
    "vdsm_n"
   ]
  },
  {
   "cell_type": "code",
   "execution_count": 1447,
   "id": "9c7dd263",
   "metadata": {},
   "outputs": [
    {
     "data": {
      "text/plain": [
       "0.4999459430237893"
      ]
     },
     "execution_count": 1447,
     "metadata": {},
     "output_type": "execute_result"
    }
   ],
   "source": [
    "# Find the value of Cosine Distance for Republicans\n",
    "vrsm @ v[52] / (vrsm_n*vj)"
   ]
  },
  {
   "cell_type": "code",
   "execution_count": 1450,
   "id": "87386feb",
   "metadata": {},
   "outputs": [
    {
     "data": {
      "text/plain": [
       "0.7134326703447265"
      ]
     },
     "execution_count": 1450,
     "metadata": {},
     "output_type": "execute_result"
    }
   ],
   "source": [
    "# Find the value of Cosine Distance for Democrats\n",
    "vdsm @ v[52] / (vdsm_n*vj)"
   ]
  },
  {
   "cell_type": "markdown",
   "id": "c764ac68",
   "metadata": {},
   "source": [
    "#### ∴  Based on the result, Jeffords as closer to the Democrats"
   ]
  },
  {
   "cell_type": "code",
   "execution_count": null,
   "id": "328b6162",
   "metadata": {},
   "outputs": [],
   "source": []
  }
 ],
 "metadata": {
  "kernelspec": {
   "display_name": "Python 3 (ipykernel)",
   "language": "python",
   "name": "python3"
  },
  "language_info": {
   "codemirror_mode": {
    "name": "ipython",
    "version": 3
   },
   "file_extension": ".py",
   "mimetype": "text/x-python",
   "name": "python",
   "nbconvert_exporter": "python",
   "pygments_lexer": "ipython3",
   "version": "3.9.12"
  }
 },
 "nbformat": 4,
 "nbformat_minor": 5
}
